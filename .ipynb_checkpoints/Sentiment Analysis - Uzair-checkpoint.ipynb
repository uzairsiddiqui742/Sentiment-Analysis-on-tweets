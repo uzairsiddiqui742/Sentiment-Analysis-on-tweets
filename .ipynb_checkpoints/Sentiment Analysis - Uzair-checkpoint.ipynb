{
 "cells": [
  {
   "cell_type": "code",
   "execution_count": 45,
   "id": "b42542d4",
   "metadata": {},
   "outputs": [],
   "source": [
    "import numpy as np\n",
    "import pandas as pd\n",
    "import re"
   ]
  },
  {
   "cell_type": "code",
   "execution_count": 46,
   "id": "8af69284",
   "metadata": {},
   "outputs": [],
   "source": [
    "df = pd.read_csv('train.csv')"
   ]
  },
  {
   "cell_type": "code",
   "execution_count": 47,
   "id": "32ce206d",
   "metadata": {},
   "outputs": [],
   "source": [
    "train = df.drop(['textID','text'],axis=1)"
   ]
  },
  {
   "cell_type": "markdown",
   "id": "f0b2904c",
   "metadata": {},
   "source": [
    "# Data Preprocessing"
   ]
  },
  {
   "cell_type": "raw",
   "id": "ce000e1e",
   "metadata": {},
   "source": [
    "So we have to clean all the tweets which includes\n",
    "filling missing vlaues\n",
    "convert text to lowercase\n",
    "remove mentions\n",
    "remove hashes\n",
    "remove new line characters\n",
    "remove single quotes\n",
    "remove hyperlinks\n",
    "remove punctuations\n",
    "remove stopwords. Stopwords means small words like I, you, is, just etc"
   ]
  },
  {
   "cell_type": "code",
   "execution_count": 48,
   "id": "0c4f12b6",
   "metadata": {},
   "outputs": [],
   "source": [
    "train.selected_text.fillna('No text',inplace=True)"
   ]
  },
  {
   "cell_type": "code",
   "execution_count": 49,
   "id": "09481108",
   "metadata": {},
   "outputs": [],
   "source": [
    "def cleantext(text):\n",
    "    text = re.sub(r'@[A-Za-z0-9]+','', text) #remove mentions\n",
    "    text = re.sub(r'#','', text) #remove hash\n",
    "    text = re.sub(r'https?:\\/\\/\\S+', '', text) #remove hyperlink\n",
    "    text = re.sub('\\s+', ' ', text) #remove new line char\n",
    "    text = re.sub(\"\\'\", \"\", text) #remove single quotes\n",
    "    \n",
    "    return text"
   ]
  },
  {
   "cell_type": "code",
   "execution_count": 50,
   "id": "b08d9fcc",
   "metadata": {},
   "outputs": [],
   "source": [
    "train[\"selected_text\"] = train[\"selected_text\"].apply(cleantext)"
   ]
  },
  {
   "cell_type": "code",
   "execution_count": 51,
   "id": "8068e562",
   "metadata": {},
   "outputs": [
    {
     "data": {
      "text/plain": [
       "0                   I`d have responded, if I were going\n",
       "1                                              Sooo SAD\n",
       "2                                           bullying me\n",
       "3                                        leave me alone\n",
       "4                                         Sons of ****,\n",
       "5      - some shameless plugging for the best Ranger...\n",
       "6                                                   fun\n",
       "7                                            Soooo high\n",
       "8                                           Both of you\n",
       "9                          Wow... u just became cooler.\n",
       "10    as much as i love to be hopeful, i reckon the ...\n",
       "11                                                 like\n",
       "12                                          DANGERously\n",
       "13                                                 lost\n",
       "14                           test test from the LG enV2\n",
       "Name: selected_text, dtype: object"
      ]
     },
     "execution_count": 51,
     "metadata": {},
     "output_type": "execute_result"
    }
   ],
   "source": [
    "train[\"selected_text\"].head(15)"
   ]
  },
  {
   "cell_type": "code",
   "execution_count": 52,
   "id": "1ec12641",
   "metadata": {},
   "outputs": [],
   "source": [
    "import string\n",
    "train[\"selected_text\"] = train[\"selected_text\"].apply(lambda wrd:[ltrs.lower() for ltrs in wrd if ltrs not in string.punctuation])"
   ]
  },
  {
   "cell_type": "code",
   "execution_count": 53,
   "id": "f4743471",
   "metadata": {},
   "outputs": [],
   "source": [
    "train[\"selected_text\"] = train[\"selected_text\"].apply(lambda wrd: ''.join(wrd))"
   ]
  },
  {
   "cell_type": "code",
   "execution_count": 54,
   "id": "7e4d8097",
   "metadata": {},
   "outputs": [
    {
     "data": {
      "text/plain": [
       "0                        id have responded if i were going\n",
       "1                                                 sooo sad\n",
       "2                                              bullying me\n",
       "3                                           leave me alone\n",
       "4                                                 sons of \n",
       "                               ...                        \n",
       "27476                                               d lost\n",
       "27477                                           dont force\n",
       "27478                             yay good for both of you\n",
       "27479                                 but it was worth it \n",
       "27480    all this flirting going on  the atg smiles yay...\n",
       "Name: selected_text, Length: 27481, dtype: object"
      ]
     },
     "execution_count": 54,
     "metadata": {},
     "output_type": "execute_result"
    }
   ],
   "source": [
    "train[\"selected_text\"]"
   ]
  },
  {
   "cell_type": "code",
   "execution_count": 55,
   "id": "d202f728",
   "metadata": {},
   "outputs": [],
   "source": [
    "from nltk.corpus import stopwords"
   ]
  },
  {
   "cell_type": "code",
   "execution_count": 56,
   "id": "ba6fb06e",
   "metadata": {},
   "outputs": [],
   "source": [
    "train[\"selected_text\"][:50] = train[\"selected_text\"][:50].apply(lambda x: ' '.join([word for word in x.split() if word not in stopwords.words(\"english\")]))"
   ]
  },
  {
   "cell_type": "code",
   "execution_count": 57,
   "id": "b73044d7",
   "metadata": {},
   "outputs": [
    {
     "data": {
      "text/plain": [
       "0                                       id responded going\n",
       "1                                                 sooo sad\n",
       "2                                                 bullying\n",
       "3                                              leave alone\n",
       "4                                                     sons\n",
       "                               ...                        \n",
       "27476                                               d lost\n",
       "27477                                           dont force\n",
       "27478                             yay good for both of you\n",
       "27479                                 but it was worth it \n",
       "27480    all this flirting going on  the atg smiles yay...\n",
       "Name: selected_text, Length: 27481, dtype: object"
      ]
     },
     "execution_count": 57,
     "metadata": {},
     "output_type": "execute_result"
    }
   ],
   "source": [
    "train[\"selected_text\"]"
   ]
  },
  {
   "cell_type": "code",
   "execution_count": 58,
   "id": "ecf131e4",
   "metadata": {},
   "outputs": [],
   "source": [
    "import gensim\n",
    "def sent_to_words(sentences):\n",
    "    for sentence in sentences:\n",
    "        yield(gensim.utils.simple_preprocess(str(sentence),     deacc=True))"
   ]
  },
  {
   "cell_type": "code",
   "execution_count": 59,
   "id": "28d44564",
   "metadata": {},
   "outputs": [],
   "source": [
    "from nltk.tokenize.treebank import TreebankWordDetokenizer\n",
    "def detokenize(text):\n",
    "    return TreebankWordDetokenizer().detokenize(text)"
   ]
  },
  {
   "cell_type": "code",
   "execution_count": 60,
   "id": "2a285b53",
   "metadata": {},
   "outputs": [],
   "source": [
    "temp = []\n",
    "data_to_list = train['selected_text'].values.tolist()\n",
    "for i in range(len(data_to_list)):\n",
    "    temp.append(data_to_list[i])\n",
    "data_wordslem = list(sent_to_words(temp))"
   ]
  },
  {
   "cell_type": "markdown",
   "id": "21116758",
   "metadata": {},
   "source": [
    "Using Lemmatizer instead of stemming. Lemmatizer is preffered over stemming. Lemmatizer find the root word whereas Stemmizer shorten the word. For Example, word 'Caring' -> Lemmatizer -> 'Care' WHEREAS 'Caring' -> Stemming -> 'Car'"
   ]
  },
  {
   "cell_type": "code",
   "execution_count": 61,
   "id": "a2206b36",
   "metadata": {},
   "outputs": [],
   "source": [
    "import nltk\n",
    "lemmatizer = nltk.stem.WordNetLemmatizer()"
   ]
  },
  {
   "cell_type": "code",
   "execution_count": 62,
   "id": "178a2126",
   "metadata": {},
   "outputs": [],
   "source": [
    "for i in range(len(data_wordslem)):\n",
    "    for j in range(len(data_wordslem[i])):\n",
    "        data_wordslem[i][j] = lemmatizer.lemmatize(data_wordslem[i][j],pos=\"v\")"
   ]
  },
  {
   "cell_type": "code",
   "execution_count": 63,
   "id": "e2f16f97",
   "metadata": {},
   "outputs": [
    {
     "name": "stdout",
     "output_type": "stream",
     "text": [
      "['id respond go', 'sooo sad', 'bully', 'leave alone', 'sons']\n"
     ]
    }
   ],
   "source": [
    "data = []\n",
    "for i in range(len(data_wordslem)):\n",
    "    data.append(detokenize(data_wordslem[i]))\n",
    "print(data[:5])"
   ]
  },
  {
   "cell_type": "markdown",
   "id": "63ad6e1d",
   "metadata": {},
   "source": [
    "# Building a Model"
   ]
  },
  {
   "cell_type": "code",
   "execution_count": 64,
   "id": "afd41093",
   "metadata": {},
   "outputs": [],
   "source": [
    "from keras.preprocessing.text import Tokenizer\n",
    "from keras_preprocessing.sequence import pad_sequences\n",
    "from keras import regularizers"
   ]
  },
  {
   "cell_type": "markdown",
   "id": "fb0c4974",
   "metadata": {},
   "source": [
    "# Tokenizing and adding padding"
   ]
  },
  {
   "cell_type": "code",
   "execution_count": null,
   "id": "f718228f",
   "metadata": {},
   "outputs": [],
   "source": [
    "# max_words = 5000\n",
    "max_len = 200\n",
    "\n",
    "tokenizer = Tokenizer(num_words=max_words)\n",
    "tokenizer.fit_on_texts(data)\n",
    "sequences = tokenizer.texts_to_sequences(data)\n",
    "tweets = pad_sequences(sequences, maxlen=max_len)\n",
    "print(tweets)"
   ]
  },
  {
   "cell_type": "code",
   "execution_count": 66,
   "id": "fb205a9b",
   "metadata": {},
   "outputs": [],
   "source": [
    "from keras.layers import Embedding\n",
    "embedding_layer = Embedding(1000, 64)"
   ]
  },
  {
   "cell_type": "markdown",
   "id": "7a6db7fc",
   "metadata": {},
   "source": [
    "# Using BiDirectional RNN and LSTM"
   ]
  },
  {
   "cell_type": "markdown",
   "id": "d72c1d12",
   "metadata": {},
   "source": [
    "Bidirectional RNN is preffered over simple RNN because Bidirectional RNN will keep the activations of future words while predicting activations of current words using backprop through time. LSTM (long short term memory) is used to remember the word. Its like a memory of Neual Networks. (I learn this in Deep Learning Specialization course by Andrew Ng)"
   ]
  },
  {
   "cell_type": "code",
   "execution_count": 67,
   "id": "aa18019f",
   "metadata": {},
   "outputs": [],
   "source": [
    "from keras.models import Sequential\n",
    "from keras import layers\n",
    "\n",
    "model2 = Sequential()\n",
    "model2.add(layers.Embedding(max_words, 40, input_length=max_len))\n",
    "model2.add(layers.Bidirectional(layers.LSTM(20,dropout=0.6)))\n",
    "model2.add(layers.Dense(3,activation='softmax'))"
   ]
  },
  {
   "cell_type": "code",
   "execution_count": 68,
   "id": "b61b0430",
   "metadata": {},
   "outputs": [],
   "source": [
    "model2.compile(optimizer='adam',loss='categorical_crossentropy', metrics=['accuracy'])"
   ]
  },
  {
   "cell_type": "markdown",
   "id": "3b9f1fe6",
   "metadata": {},
   "source": [
    "# Label Encoding of output"
   ]
  },
  {
   "cell_type": "code",
   "execution_count": 69,
   "id": "3d68345b",
   "metadata": {},
   "outputs": [],
   "source": [
    "import tensorflow as tf\n",
    "labels = np.array(train['sentiment'])\n",
    "y = []\n",
    "for i in range(len(labels)):\n",
    "    if labels[i] == 'neutral':\n",
    "        y.append(0)\n",
    "    if labels[i] == 'negative':\n",
    "        y.append(1)\n",
    "    if labels[i] == 'positive':\n",
    "        y.append(2)\n",
    "y = np.array(y)\n",
    "labels = tf.keras.utils.to_categorical(y, 3, dtype=\"float32\")\n",
    "del y"
   ]
  },
  {
   "cell_type": "markdown",
   "id": "cd584880",
   "metadata": {},
   "source": [
    "# Training the Model"
   ]
  },
  {
   "cell_type": "code",
   "execution_count": 73,
   "id": "47c7d4e6",
   "metadata": {},
   "outputs": [
    {
     "name": "stdout",
     "output_type": "stream",
     "text": [
      "Epoch 1/70\n",
      "687/687 [==============================] - 41s 50ms/step - loss: 0.7101 - accuracy: 0.7014 - val_loss: 0.5259 - val_accuracy: 0.7908\n",
      "Epoch 2/70\n",
      "687/687 [==============================] - 36s 53ms/step - loss: 0.4583 - accuracy: 0.8262 - val_loss: 0.4508 - val_accuracy: 0.8334\n",
      "Epoch 3/70\n",
      "687/687 [==============================] - 42s 62ms/step - loss: 0.3941 - accuracy: 0.8525 - val_loss: 0.4345 - val_accuracy: 0.8392\n",
      "Epoch 4/70\n",
      "687/687 [==============================] - 39s 56ms/step - loss: 0.3640 - accuracy: 0.8660 - val_loss: 0.4351 - val_accuracy: 0.8403\n",
      "Epoch 5/70\n",
      "687/687 [==============================] - 37s 54ms/step - loss: 0.3406 - accuracy: 0.8730 - val_loss: 0.4362 - val_accuracy: 0.8374\n",
      "Epoch 6/70\n",
      "687/687 [==============================] - 38s 55ms/step - loss: 0.3223 - accuracy: 0.8833 - val_loss: 0.4373 - val_accuracy: 0.8368\n",
      "Epoch 7/70\n",
      "687/687 [==============================] - 36s 53ms/step - loss: 0.3090 - accuracy: 0.8866 - val_loss: 0.4429 - val_accuracy: 0.8348\n",
      "Epoch 8/70\n",
      "687/687 [==============================] - 37s 53ms/step - loss: 0.2972 - accuracy: 0.8914 - val_loss: 0.4511 - val_accuracy: 0.8379\n",
      "Epoch 9/70\n",
      "687/687 [==============================] - 38s 55ms/step - loss: 0.2896 - accuracy: 0.8937 - val_loss: 0.4600 - val_accuracy: 0.8385\n",
      "Epoch 10/70\n",
      "687/687 [==============================] - 38s 55ms/step - loss: 0.2805 - accuracy: 0.8980 - val_loss: 0.4655 - val_accuracy: 0.8412\n",
      "Epoch 11/70\n",
      "687/687 [==============================] - 39s 57ms/step - loss: 0.2723 - accuracy: 0.9009 - val_loss: 0.4693 - val_accuracy: 0.8339\n",
      "Epoch 12/70\n",
      "687/687 [==============================] - 40s 58ms/step - loss: 0.2654 - accuracy: 0.9035 - val_loss: 0.4692 - val_accuracy: 0.8357\n",
      "Epoch 13/70\n",
      "687/687 [==============================] - 44s 65ms/step - loss: 0.2598 - accuracy: 0.9050 - val_loss: 0.4746 - val_accuracy: 0.8365\n",
      "Epoch 14/70\n",
      "687/687 [==============================] - 41s 59ms/step - loss: 0.2536 - accuracy: 0.9065 - val_loss: 0.4971 - val_accuracy: 0.8265\n",
      "Epoch 15/70\n",
      "687/687 [==============================] - 39s 57ms/step - loss: 0.2490 - accuracy: 0.9111 - val_loss: 0.4812 - val_accuracy: 0.8375\n",
      "Epoch 16/70\n",
      "687/687 [==============================] - 43s 62ms/step - loss: 0.2414 - accuracy: 0.9109 - val_loss: 0.4840 - val_accuracy: 0.8348\n",
      "Epoch 17/70\n",
      "687/687 [==============================] - 41s 59ms/step - loss: 0.2352 - accuracy: 0.9138 - val_loss: 0.5002 - val_accuracy: 0.8355\n",
      "Epoch 18/70\n",
      "687/687 [==============================] - 43s 63ms/step - loss: 0.2318 - accuracy: 0.9134 - val_loss: 0.5074 - val_accuracy: 0.8339\n",
      "Epoch 19/70\n",
      "687/687 [==============================] - 39s 57ms/step - loss: 0.2265 - accuracy: 0.9154 - val_loss: 0.5110 - val_accuracy: 0.8379\n",
      "Epoch 20/70\n",
      "687/687 [==============================] - 41s 59ms/step - loss: 0.2213 - accuracy: 0.9189 - val_loss: 0.5189 - val_accuracy: 0.8348\n",
      "Epoch 21/70\n",
      "687/687 [==============================] - 46s 67ms/step - loss: 0.2209 - accuracy: 0.9186 - val_loss: 0.5205 - val_accuracy: 0.8332\n",
      "Epoch 22/70\n",
      "687/687 [==============================] - 51s 74ms/step - loss: 0.2159 - accuracy: 0.9197 - val_loss: 0.5347 - val_accuracy: 0.8354\n",
      "Epoch 23/70\n",
      "687/687 [==============================] - 44s 65ms/step - loss: 0.2131 - accuracy: 0.9207 - val_loss: 0.5352 - val_accuracy: 0.8334\n",
      "Epoch 24/70\n",
      "687/687 [==============================] - 39s 57ms/step - loss: 0.2107 - accuracy: 0.9223 - val_loss: 0.5403 - val_accuracy: 0.8303\n",
      "Epoch 25/70\n",
      "687/687 [==============================] - 44s 64ms/step - loss: 0.2069 - accuracy: 0.9225 - val_loss: 0.5470 - val_accuracy: 0.8323\n",
      "Epoch 26/70\n",
      "687/687 [==============================] - 42s 61ms/step - loss: 0.2033 - accuracy: 0.9253 - val_loss: 0.5638 - val_accuracy: 0.8290\n",
      "Epoch 27/70\n",
      "687/687 [==============================] - 44s 65ms/step - loss: 0.1980 - accuracy: 0.9268 - val_loss: 0.5589 - val_accuracy: 0.8315\n",
      "Epoch 28/70\n",
      "687/687 [==============================] - 40s 58ms/step - loss: 0.1970 - accuracy: 0.9283 - val_loss: 0.5681 - val_accuracy: 0.8283\n",
      "Epoch 29/70\n",
      "687/687 [==============================] - 39s 57ms/step - loss: 0.1977 - accuracy: 0.9264 - val_loss: 0.5652 - val_accuracy: 0.8285\n",
      "Epoch 30/70\n",
      "687/687 [==============================] - 44s 64ms/step - loss: 0.1926 - accuracy: 0.9282 - val_loss: 0.5919 - val_accuracy: 0.8226\n",
      "Epoch 31/70\n",
      "687/687 [==============================] - 42s 60ms/step - loss: 0.1900 - accuracy: 0.9289 - val_loss: 0.5780 - val_accuracy: 0.8279\n",
      "Epoch 32/70\n",
      "687/687 [==============================] - 42s 61ms/step - loss: 0.1891 - accuracy: 0.9298 - val_loss: 0.5931 - val_accuracy: 0.8315\n",
      "Epoch 33/70\n",
      "687/687 [==============================] - 39s 57ms/step - loss: 0.1920 - accuracy: 0.9279 - val_loss: 0.5747 - val_accuracy: 0.8252\n",
      "Epoch 34/70\n",
      "687/687 [==============================] - 41s 60ms/step - loss: 0.1846 - accuracy: 0.9321 - val_loss: 0.5931 - val_accuracy: 0.8274\n",
      "Epoch 35/70\n",
      "687/687 [==============================] - 41s 59ms/step - loss: 0.1847 - accuracy: 0.9308 - val_loss: 0.5891 - val_accuracy: 0.8310\n",
      "Epoch 36/70\n",
      "687/687 [==============================] - 40s 58ms/step - loss: 0.1836 - accuracy: 0.9316 - val_loss: 0.5964 - val_accuracy: 0.8297\n",
      "Epoch 37/70\n",
      "687/687 [==============================] - 40s 58ms/step - loss: 0.1790 - accuracy: 0.9330 - val_loss: 0.6126 - val_accuracy: 0.8319\n",
      "Epoch 38/70\n",
      "687/687 [==============================] - 41s 60ms/step - loss: 0.1795 - accuracy: 0.9324 - val_loss: 0.6032 - val_accuracy: 0.8355\n",
      "Epoch 39/70\n",
      "687/687 [==============================] - 39s 57ms/step - loss: 0.1758 - accuracy: 0.9340 - val_loss: 0.6044 - val_accuracy: 0.8310\n",
      "Epoch 40/70\n",
      "687/687 [==============================] - 39s 57ms/step - loss: 0.1771 - accuracy: 0.9338 - val_loss: 0.6067 - val_accuracy: 0.8319\n",
      "Epoch 41/70\n",
      "687/687 [==============================] - 38s 56ms/step - loss: 0.1720 - accuracy: 0.9351 - val_loss: 0.6119 - val_accuracy: 0.8281\n",
      "Epoch 42/70\n",
      "687/687 [==============================] - 40s 58ms/step - loss: 0.1763 - accuracy: 0.9341 - val_loss: 0.6054 - val_accuracy: 0.8303\n",
      "Epoch 43/70\n",
      "687/687 [==============================] - 42s 61ms/step - loss: 0.1732 - accuracy: 0.9353 - val_loss: 0.6197 - val_accuracy: 0.8288\n",
      "Epoch 44/70\n",
      "687/687 [==============================] - 41s 60ms/step - loss: 0.1720 - accuracy: 0.9375 - val_loss: 0.6231 - val_accuracy: 0.8317\n",
      "Epoch 45/70\n",
      "687/687 [==============================] - 39s 56ms/step - loss: 0.1691 - accuracy: 0.9373 - val_loss: 0.6346 - val_accuracy: 0.8299\n",
      "Epoch 46/70\n",
      "687/687 [==============================] - 40s 58ms/step - loss: 0.1713 - accuracy: 0.9351 - val_loss: 0.6319 - val_accuracy: 0.8275\n",
      "Epoch 47/70\n",
      "687/687 [==============================] - 45s 65ms/step - loss: 0.1657 - accuracy: 0.9380 - val_loss: 0.6418 - val_accuracy: 0.8285\n",
      "Epoch 48/70\n",
      "687/687 [==============================] - 42s 61ms/step - loss: 0.1656 - accuracy: 0.9384 - val_loss: 0.6401 - val_accuracy: 0.8285\n",
      "Epoch 49/70\n",
      "687/687 [==============================] - 52s 75ms/step - loss: 0.1645 - accuracy: 0.9366 - val_loss: 0.6405 - val_accuracy: 0.8285\n",
      "Epoch 50/70\n",
      "687/687 [==============================] - 54s 79ms/step - loss: 0.1657 - accuracy: 0.9374 - val_loss: 0.6358 - val_accuracy: 0.8255\n",
      "Epoch 51/70\n",
      "687/687 [==============================] - 58s 85ms/step - loss: 0.1630 - accuracy: 0.9407 - val_loss: 0.6506 - val_accuracy: 0.8294\n",
      "Epoch 52/70\n",
      "687/687 [==============================] - 45s 65ms/step - loss: 0.1617 - accuracy: 0.9390 - val_loss: 0.6659 - val_accuracy: 0.8286\n",
      "Epoch 53/70\n",
      "687/687 [==============================] - 48s 70ms/step - loss: 0.1641 - accuracy: 0.9390 - val_loss: 0.6529 - val_accuracy: 0.8277\n",
      "Epoch 54/70\n",
      "687/687 [==============================] - 50s 74ms/step - loss: 0.1572 - accuracy: 0.9427 - val_loss: 0.6773 - val_accuracy: 0.8175\n",
      "Epoch 55/70\n",
      "687/687 [==============================] - 46s 68ms/step - loss: 0.1558 - accuracy: 0.9414 - val_loss: 0.6830 - val_accuracy: 0.8261\n",
      "Epoch 56/70\n",
      "687/687 [==============================] - 46s 67ms/step - loss: 0.1592 - accuracy: 0.9395 - val_loss: 0.6757 - val_accuracy: 0.8297\n",
      "Epoch 57/70\n"
     ]
    },
    {
     "name": "stdout",
     "output_type": "stream",
     "text": [
      "687/687 [==============================] - 43s 62ms/step - loss: 0.1603 - accuracy: 0.9402 - val_loss: 0.6672 - val_accuracy: 0.8268\n",
      "Epoch 58/70\n",
      "687/687 [==============================] - 48s 70ms/step - loss: 0.1577 - accuracy: 0.9396 - val_loss: 0.6724 - val_accuracy: 0.8286\n",
      "Epoch 59/70\n",
      "687/687 [==============================] - 44s 64ms/step - loss: 0.1606 - accuracy: 0.9397 - val_loss: 0.6702 - val_accuracy: 0.8303\n",
      "Epoch 60/70\n",
      "687/687 [==============================] - 45s 66ms/step - loss: 0.1598 - accuracy: 0.9390 - val_loss: 0.6753 - val_accuracy: 0.8301\n",
      "Epoch 61/70\n",
      "687/687 [==============================] - 43s 63ms/step - loss: 0.1549 - accuracy: 0.9405 - val_loss: 0.6740 - val_accuracy: 0.8279\n",
      "Epoch 62/70\n",
      "687/687 [==============================] - 44s 64ms/step - loss: 0.1570 - accuracy: 0.9400 - val_loss: 0.6880 - val_accuracy: 0.8299\n",
      "Epoch 63/70\n",
      "687/687 [==============================] - 44s 64ms/step - loss: 0.1536 - accuracy: 0.9425 - val_loss: 0.6774 - val_accuracy: 0.8241\n",
      "Epoch 64/70\n",
      "687/687 [==============================] - 44s 64ms/step - loss: 0.1549 - accuracy: 0.9406 - val_loss: 0.6733 - val_accuracy: 0.8261\n",
      "Epoch 65/70\n",
      "687/687 [==============================] - 45s 66ms/step - loss: 0.1528 - accuracy: 0.9418 - val_loss: 0.6828 - val_accuracy: 0.8290\n",
      "Epoch 66/70\n",
      "687/687 [==============================] - 48s 70ms/step - loss: 0.1543 - accuracy: 0.9417 - val_loss: 0.6806 - val_accuracy: 0.8290\n",
      "Epoch 67/70\n",
      "687/687 [==============================] - 47s 69ms/step - loss: 0.1505 - accuracy: 0.9433 - val_loss: 0.6858 - val_accuracy: 0.8283\n",
      "Epoch 68/70\n",
      "687/687 [==============================] - 49s 72ms/step - loss: 0.1528 - accuracy: 0.9419 - val_loss: 0.6797 - val_accuracy: 0.8272\n",
      "Epoch 69/70\n",
      "687/687 [==============================] - 45s 66ms/step - loss: 0.1530 - accuracy: 0.9425 - val_loss: 0.7017 - val_accuracy: 0.8272\n",
      "Epoch 70/70\n",
      "687/687 [==============================] - 45s 65ms/step - loss: 0.1537 - accuracy: 0.9430 - val_loss: 0.6867 - val_accuracy: 0.8241\n"
     ]
    }
   ],
   "source": [
    "history = model2.fit(x = tweets, y= labels, epochs=70,validation_split=0.2)"
   ]
  },
  {
   "cell_type": "code",
   "execution_count": 74,
   "id": "7db49c5f",
   "metadata": {},
   "outputs": [],
   "source": [
    "import matplotlib.pyplot as plt"
   ]
  },
  {
   "cell_type": "markdown",
   "id": "7323b6f6",
   "metadata": {},
   "source": [
    "# Visualizing Loss"
   ]
  },
  {
   "cell_type": "code",
   "execution_count": 76,
   "id": "692a00ea",
   "metadata": {},
   "outputs": [
    {
     "data": {
      "image/png": "[encoded data removed]",
      "text/plain": [
       "<Figure size 432x288 with 1 Axes>"
      ]
     },
     "metadata": {
      "needs_background": "light"
     },
     "output_type": "display_data"
    }
   ],
   "source": [
    "plt.plot(history.history['loss'])\n",
    "plt.plot(history.history['val_loss'])\n",
    "plt.title('Loss')\n",
    "plt.ylabel('loss')\n",
    "plt.xlabel('epoch')\n",
    "plt.legend(['train', 'validation'], loc='upper left')\n",
    "plt.show()"
   ]
  },
  {
   "cell_type": "code",
   "execution_count": 78,
   "id": "4443da17",
   "metadata": {},
   "outputs": [
    {
     "data": {
      "image/png": "[encoded data removed]",
      "text/plain": [
       "<Figure size 432x288 with 1 Axes>"
      ]
     },
     "metadata": {
      "needs_background": "light"
     },
     "output_type": "display_data"
    }
   ],
   "source": [
    "plt.plot(history.history['accuracy'])\n",
    "plt.plot(history.history['val_accuracy'])\n",
    "plt.title('Loss')\n",
    "plt.ylabel('loss')\n",
    "plt.xlabel('epoch')\n",
    "plt.legend(['train', 'validation'], loc='upper left')\n",
    "plt.show()"
   ]
  },
  {
   "cell_type": "markdown",
   "id": "9ccbabc5",
   "metadata": {},
   "source": [
    "# Prediction and Result"
   ]
  },
  {
   "cell_type": "code",
   "execution_count": 79,
   "id": "736e429f",
   "metadata": {},
   "outputs": [],
   "source": [
    "sentiment = ['Neutral','Negative','Positive']"
   ]
  },
  {
   "cell_type": "code",
   "execution_count": 110,
   "id": "ca438e80",
   "metadata": {},
   "outputs": [
    {
     "name": "stdout",
     "output_type": "stream",
     "text": [
      "1/1 [==============================] - 0s 361ms/step\n"
     ]
    },
    {
     "data": {
      "text/plain": [
       "'Negative'"
      ]
     },
     "execution_count": 110,
     "metadata": {},
     "output_type": "execute_result"
    }
   ],
   "source": [
    "sequence = tokenizer.texts_to_sequences(['this experience has been the worst, very bad product'])\n",
    "test = pad_sequences(sequence, maxlen=max_len)\n",
    "sentiment[np.around(model2.predict(test), decimals=0).argmax(axis=1)[0]]"
   ]
  },
  {
   "cell_type": "code",
   "execution_count": 102,
   "id": "5814d6ad",
   "metadata": {},
   "outputs": [
    {
     "name": "stdout",
     "output_type": "stream",
     "text": [
      "1/1 [==============================] - 0s 25ms/step\n"
     ]
    },
    {
     "data": {
      "text/plain": [
       "'Positive'"
      ]
     },
     "execution_count": 102,
     "metadata": {},
     "output_type": "execute_result"
    }
   ],
   "source": [
    "sequence = tokenizer.texts_to_sequences(['i really love this internship'])\n",
    "test = pad_sequences(sequence, maxlen=max_len)\n",
    "sentiment[np.around(model2.predict(test), decimals=0).argmax(axis=1)[0]]"
   ]
  },
  {
   "cell_type": "code",
   "execution_count": 85,
   "id": "060d3f6a",
   "metadata": {},
   "outputs": [
    {
     "name": "stdout",
     "output_type": "stream",
     "text": [
      "1/1 [==============================] - 0s 83ms/step\n"
     ]
    },
    {
     "data": {
      "text/plain": [
       "'Positive'"
      ]
     },
     "execution_count": 85,
     "metadata": {},
     "output_type": "execute_result"
    }
   ],
   "source": [
    "sequence = tokenizer.texts_to_sequences(['i love sayabidevs'])\n",
    "test = pad_sequences(sequence, maxlen=max_len)\n",
    "sentiment[np.around(model2.predict(test), decimals=0).argmax(axis=1)[0]]"
   ]
  },
  {
   "cell_type": "code",
   "execution_count": 88,
   "id": "db4a4791",
   "metadata": {},
   "outputs": [
    {
     "name": "stdout",
     "output_type": "stream",
     "text": [
      "1/1 [==============================] - 0s 40ms/step\n"
     ]
    },
    {
     "data": {
      "text/plain": [
       "'Neutral'"
      ]
     },
     "execution_count": 88,
     "metadata": {},
     "output_type": "execute_result"
    }
   ],
   "source": [
    "sequence = tokenizer.texts_to_sequences(['I go to gym daily'])\n",
    "test = pad_sequences(sequence, maxlen=max_len)\n",
    "sentiment[np.around(model2.predict(test), decimals=0).argmax(axis=1)[0]]"
   ]
  },
  {
   "cell_type": "markdown",
   "id": "34d7ad54",
   "metadata": {},
   "source": [
    "# My Review"
   ]
  },
  {
   "cell_type": "markdown",
   "id": "48677866",
   "metadata": {},
   "source": [
    "Although the model is predicting fine, but from the loss, we can easily see that the model is Overfitting since the train loss is small and validation loss is very high. To prevent overfitting, we need to add some regularization in the model."
   ]
  },
  {
   "cell_type": "markdown",
   "id": "9de64131",
   "metadata": {},
   "source": [
    "# Building model again with some regularization"
   ]
  },
  {
   "cell_type": "code",
   "execution_count": 90,
   "id": "dddad034",
   "metadata": {},
   "outputs": [],
   "source": [
    "model = Sequential()\n",
    "model.add(layers.Embedding(max_words, 40, input_length=max_len))\n",
    "model.add(layers.BatchNormalization())\n",
    "model.add(layers.Bidirectional(layers.LSTM(15,dropout=0.6)))\n",
    "model.add(layers.Dense(3,activation='softmax'))"
   ]
  },
  {
   "cell_type": "code",
   "execution_count": 91,
   "id": "5904c3e6",
   "metadata": {},
   "outputs": [],
   "source": [
    "model.compile(optimizer='rmsprop',loss='categorical_crossentropy', metrics=['accuracy'])"
   ]
  },
  {
   "cell_type": "code",
   "execution_count": 92,
   "id": "9461b68b",
   "metadata": {},
   "outputs": [
    {
     "name": "stdout",
     "output_type": "stream",
     "text": [
      "Epoch 1/50\n",
      "687/687 [==============================] - 57s 75ms/step - loss: 0.7166 - accuracy: 0.7044 - val_loss: 0.5684 - val_accuracy: 0.7764\n",
      "Epoch 2/50\n",
      "687/687 [==============================] - 51s 75ms/step - loss: 0.5507 - accuracy: 0.7844 - val_loss: 0.5387 - val_accuracy: 0.7892\n",
      "Epoch 3/50\n",
      "687/687 [==============================] - 51s 74ms/step - loss: 0.4967 - accuracy: 0.8079 - val_loss: 0.4720 - val_accuracy: 0.8250\n",
      "Epoch 4/50\n",
      "687/687 [==============================] - 51s 74ms/step - loss: 0.4697 - accuracy: 0.8211 - val_loss: 0.5213 - val_accuracy: 0.7963\n",
      "Epoch 5/50\n",
      "687/687 [==============================] - 51s 74ms/step - loss: 0.4495 - accuracy: 0.8294 - val_loss: 1.0784 - val_accuracy: 0.5208\n",
      "Epoch 6/50\n",
      "687/687 [==============================] - 51s 75ms/step - loss: 0.4381 - accuracy: 0.8333 - val_loss: 0.4505 - val_accuracy: 0.8339\n",
      "Epoch 7/50\n",
      "687/687 [==============================] - 51s 75ms/step - loss: 0.4286 - accuracy: 0.8382 - val_loss: 0.4831 - val_accuracy: 0.8174\n",
      "Epoch 8/50\n",
      "687/687 [==============================] - 52s 76ms/step - loss: 0.4150 - accuracy: 0.8443 - val_loss: 0.4483 - val_accuracy: 0.8301\n",
      "Epoch 9/50\n",
      "687/687 [==============================] - 52s 75ms/step - loss: 0.4073 - accuracy: 0.8469 - val_loss: 0.4449 - val_accuracy: 0.8306\n",
      "Epoch 10/50\n",
      "687/687 [==============================] - 52s 75ms/step - loss: 0.4072 - accuracy: 0.8464 - val_loss: 0.4647 - val_accuracy: 0.8214\n",
      "Epoch 11/50\n",
      "687/687 [==============================] - 52s 76ms/step - loss: 0.4014 - accuracy: 0.8497 - val_loss: 0.9616 - val_accuracy: 0.5856\n",
      "Epoch 12/50\n",
      "687/687 [==============================] - 53s 77ms/step - loss: 0.3880 - accuracy: 0.8551 - val_loss: 0.4349 - val_accuracy: 0.8383\n",
      "Epoch 13/50\n",
      "687/687 [==============================] - 52s 76ms/step - loss: 0.3863 - accuracy: 0.8586 - val_loss: 0.7768 - val_accuracy: 0.7120\n",
      "Epoch 14/50\n",
      "687/687 [==============================] - 55s 80ms/step - loss: 0.3811 - accuracy: 0.8597 - val_loss: 0.4372 - val_accuracy: 0.8401\n",
      "Epoch 15/50\n",
      "687/687 [==============================] - 56s 81ms/step - loss: 0.3752 - accuracy: 0.8620 - val_loss: 0.4330 - val_accuracy: 0.8406\n",
      "Epoch 16/50\n",
      "687/687 [==============================] - 54s 79ms/step - loss: 0.3714 - accuracy: 0.8606 - val_loss: 0.4309 - val_accuracy: 0.8426\n",
      "Epoch 17/50\n",
      "687/687 [==============================] - 52s 75ms/step - loss: 0.3642 - accuracy: 0.8653 - val_loss: 0.4359 - val_accuracy: 0.8414\n",
      "Epoch 18/50\n",
      "687/687 [==============================] - 52s 76ms/step - loss: 0.3665 - accuracy: 0.8646 - val_loss: 0.4277 - val_accuracy: 0.8412\n",
      "Epoch 19/50\n",
      "687/687 [==============================] - 52s 76ms/step - loss: 0.3612 - accuracy: 0.8676 - val_loss: 0.4334 - val_accuracy: 0.8423\n",
      "Epoch 20/50\n",
      "687/687 [==============================] - 53s 78ms/step - loss: 0.3563 - accuracy: 0.8694 - val_loss: 0.4279 - val_accuracy: 0.8441\n",
      "Epoch 21/50\n",
      "687/687 [==============================] - 54s 78ms/step - loss: 0.3525 - accuracy: 0.8704 - val_loss: 0.4302 - val_accuracy: 0.8394\n",
      "Epoch 22/50\n",
      "687/687 [==============================] - 54s 78ms/step - loss: 0.3501 - accuracy: 0.8705 - val_loss: 0.4329 - val_accuracy: 0.8372\n",
      "Epoch 23/50\n",
      "687/687 [==============================] - 53s 77ms/step - loss: 0.3493 - accuracy: 0.8704 - val_loss: 0.4212 - val_accuracy: 0.8445\n",
      "Epoch 24/50\n",
      "687/687 [==============================] - 53s 77ms/step - loss: 0.3458 - accuracy: 0.8740 - val_loss: 0.4261 - val_accuracy: 0.8432\n",
      "Epoch 25/50\n",
      "687/687 [==============================] - 53s 77ms/step - loss: 0.3442 - accuracy: 0.8727 - val_loss: 0.4307 - val_accuracy: 0.8436\n",
      "Epoch 26/50\n",
      "687/687 [==============================] - 52s 75ms/step - loss: 0.3434 - accuracy: 0.8739 - val_loss: 0.4316 - val_accuracy: 0.8397\n",
      "Epoch 27/50\n",
      "687/687 [==============================] - 52s 76ms/step - loss: 0.3418 - accuracy: 0.8748 - val_loss: 0.4252 - val_accuracy: 0.8430\n",
      "Epoch 28/50\n",
      "687/687 [==============================] - 52s 76ms/step - loss: 0.3399 - accuracy: 0.8755 - val_loss: 0.4319 - val_accuracy: 0.8423\n",
      "Epoch 29/50\n",
      "687/687 [==============================] - 52s 76ms/step - loss: 0.3372 - accuracy: 0.8766 - val_loss: 0.4287 - val_accuracy: 0.8425\n",
      "Epoch 30/50\n",
      "687/687 [==============================] - 53s 77ms/step - loss: 0.3359 - accuracy: 0.8763 - val_loss: 0.4320 - val_accuracy: 0.8397\n",
      "Epoch 31/50\n",
      "687/687 [==============================] - 53s 77ms/step - loss: 0.3371 - accuracy: 0.8772 - val_loss: 0.4250 - val_accuracy: 0.8423\n",
      "Epoch 32/50\n",
      "687/687 [==============================] - 52s 76ms/step - loss: 0.3328 - accuracy: 0.8793 - val_loss: 0.4311 - val_accuracy: 0.8412\n",
      "Epoch 33/50\n",
      "687/687 [==============================] - 53s 77ms/step - loss: 0.3273 - accuracy: 0.8823 - val_loss: 0.4279 - val_accuracy: 0.8408\n",
      "Epoch 34/50\n",
      "687/687 [==============================] - 53s 77ms/step - loss: 0.3304 - accuracy: 0.8807 - val_loss: 0.4279 - val_accuracy: 0.8446\n",
      "Epoch 35/50\n",
      "687/687 [==============================] - 52s 76ms/step - loss: 0.3283 - accuracy: 0.8801 - val_loss: 0.4254 - val_accuracy: 0.8421\n",
      "Epoch 36/50\n",
      "687/687 [==============================] - 52s 75ms/step - loss: 0.3261 - accuracy: 0.8803 - val_loss: 0.4438 - val_accuracy: 0.8375\n",
      "Epoch 37/50\n",
      "687/687 [==============================] - 52s 75ms/step - loss: 0.3248 - accuracy: 0.8838 - val_loss: 0.4288 - val_accuracy: 0.8408\n",
      "Epoch 38/50\n",
      "687/687 [==============================] - 52s 75ms/step - loss: 0.3268 - accuracy: 0.8819 - val_loss: 0.4251 - val_accuracy: 0.8426\n",
      "Epoch 39/50\n",
      "687/687 [==============================] - 51s 75ms/step - loss: 0.3276 - accuracy: 0.8813 - val_loss: 0.4285 - val_accuracy: 0.8410\n",
      "Epoch 40/50\n",
      "687/687 [==============================] - 60s 88ms/step - loss: 0.3213 - accuracy: 0.8844 - val_loss: 0.4407 - val_accuracy: 0.8395\n",
      "Epoch 41/50\n",
      "687/687 [==============================] - 65s 94ms/step - loss: 0.3215 - accuracy: 0.8828 - val_loss: 0.4292 - val_accuracy: 0.8428\n",
      "Epoch 42/50\n",
      "687/687 [==============================] - 59s 86ms/step - loss: 0.3214 - accuracy: 0.8857 - val_loss: 0.4272 - val_accuracy: 0.8439\n",
      "Epoch 43/50\n",
      "687/687 [==============================] - 56s 82ms/step - loss: 0.3187 - accuracy: 0.8855 - val_loss: 0.4323 - val_accuracy: 0.8445\n",
      "Epoch 44/50\n",
      "687/687 [==============================] - 48s 70ms/step - loss: 0.3180 - accuracy: 0.8841 - val_loss: 0.4325 - val_accuracy: 0.8401\n",
      "Epoch 45/50\n",
      "687/687 [==============================] - 52s 76ms/step - loss: 0.3232 - accuracy: 0.8841 - val_loss: 0.4308 - val_accuracy: 0.8406\n",
      "Epoch 46/50\n",
      "687/687 [==============================] - 53s 77ms/step - loss: 0.3128 - accuracy: 0.8867 - val_loss: 0.4306 - val_accuracy: 0.8459\n",
      "Epoch 47/50\n",
      "687/687 [==============================] - 53s 77ms/step - loss: 0.3191 - accuracy: 0.8859 - val_loss: 0.4353 - val_accuracy: 0.8445\n",
      "Epoch 48/50\n",
      "687/687 [==============================] - 52s 76ms/step - loss: 0.3146 - accuracy: 0.8880 - val_loss: 0.4335 - val_accuracy: 0.8421\n",
      "Epoch 49/50\n",
      "687/687 [==============================] - 53s 77ms/step - loss: 0.3153 - accuracy: 0.8875 - val_loss: 0.4364 - val_accuracy: 0.8428\n",
      "Epoch 50/50\n",
      "687/687 [==============================] - 54s 79ms/step - loss: 0.3134 - accuracy: 0.8871 - val_loss: 0.4277 - val_accuracy: 0.8463\n"
     ]
    }
   ],
   "source": [
    "history2 = model.fit(x = tweets, y= labels, epochs=50,validation_split=0.2)"
   ]
  },
  {
   "cell_type": "code",
   "execution_count": 93,
   "id": "a20f25d5",
   "metadata": {},
   "outputs": [
    {
     "data": {
      "image/png": "[encoded data removed]",
      "text/plain": [
       "<Figure size 432x288 with 1 Axes>"
      ]
     },
     "metadata": {
      "needs_background": "light"
     },
     "output_type": "display_data"
    }
   ],
   "source": [
    "plt.plot(history2.history['loss'])\n",
    "plt.plot(history2.history['val_loss'])\n",
    "plt.title('Loss')\n",
    "plt.ylabel('loss')\n",
    "plt.xlabel('epoch')\n",
    "plt.legend(['train', 'validation'], loc='upper left')\n",
    "plt.show()"
   ]
  },
  {
   "cell_type": "code",
   "execution_count": 94,
   "id": "d6b8c305",
   "metadata": {},
   "outputs": [
    {
     "data": {
      "image/png": "[encoded data removed]",
      "text/plain": [
       "<Figure size 432x288 with 1 Axes>"
      ]
     },
     "metadata": {
      "needs_background": "light"
     },
     "output_type": "display_data"
    }
   ],
   "source": [
    "plt.plot(history2.history['accuracy'])\n",
    "plt.plot(history2.history['val_accuracy'])\n",
    "plt.title('Loss')\n",
    "plt.ylabel('loss')\n",
    "plt.xlabel('epoch')\n",
    "plt.legend(['train', 'validation'], loc='upper left')\n",
    "plt.show()"
   ]
  },
  {
   "cell_type": "markdown",
   "id": "263066e6",
   "metadata": {},
   "source": [
    "# Prediction and Result"
   ]
  },
  {
   "cell_type": "code",
   "execution_count": 99,
   "id": "afda8381",
   "metadata": {},
   "outputs": [
    {
     "name": "stdout",
     "output_type": "stream",
     "text": [
      "1/1 [==============================] - 0s 26ms/step\n"
     ]
    },
    {
     "data": {
      "text/plain": [
       "'Positive'"
      ]
     },
     "execution_count": 99,
     "metadata": {},
     "output_type": "execute_result"
    }
   ],
   "source": [
    "sequence = tokenizer.texts_to_sequences(['i like this product'])\n",
    "test = pad_sequences(sequence, maxlen=max_len)\n",
    "sentiment[np.around(model.predict(test), decimals=0).argmax(axis=1)[0]]"
   ]
  },
  {
   "cell_type": "code",
   "execution_count": 100,
   "id": "1f372a41",
   "metadata": {},
   "outputs": [
    {
     "name": "stdout",
     "output_type": "stream",
     "text": [
      "1/1 [==============================] - 0s 30ms/step\n"
     ]
    },
    {
     "data": {
      "text/plain": [
       "'Negative'"
      ]
     },
     "execution_count": 100,
     "metadata": {},
     "output_type": "execute_result"
    }
   ],
   "source": [
    "sequence = tokenizer.texts_to_sequences(['i dont like this product'])\n",
    "test = pad_sequences(sequence, maxlen=max_len)\n",
    "sentiment[np.around(model.predict(test), decimals=0).argmax(axis=1)[0]]"
   ]
  },
  {
   "cell_type": "code",
   "execution_count": 101,
   "id": "0c2d9c6b",
   "metadata": {},
   "outputs": [
    {
     "name": "stdout",
     "output_type": "stream",
     "text": [
      "1/1 [==============================] - 0s 41ms/step\n"
     ]
    },
    {
     "data": {
      "text/plain": [
       "'Neutral'"
      ]
     },
     "execution_count": 101,
     "metadata": {},
     "output_type": "execute_result"
    }
   ],
   "source": [
    "sequence = tokenizer.texts_to_sequences(['this is a random sentence'])\n",
    "test = pad_sequences(sequence, maxlen=max_len)\n",
    "sentiment[np.around(model.predict(test), decimals=0).argmax(axis=1)[0]]"
   ]
  },
  {
   "cell_type": "markdown",
   "id": "5f66aab0",
   "metadata": {},
   "source": [
    "# My Review"
   ]
  },
  {
   "cell_type": "markdown",
   "id": "22383691",
   "metadata": {},
   "source": [
    "After adding some regularization and lowing the complexity of Neural network, the model is working fine as we can see from the loss and accuracy graph."
   ]
  }
 ],
 "metadata": {
  "kernelspec": {
   "display_name": "Python 3",
   "language": "python",
   "name": "python3"
  },
  "language_info": {
   "codemirror_mode": {
    "name": "ipython",
    "version": 3
   },
   "file_extension": ".py",
   "mimetype": "text/x-python",
   "name": "python",
   "nbconvert_exporter": "python",
   "pygments_lexer": "ipython3",
   "version": "3.8.8"
  }
 },
 "nbformat": 4,
 "nbformat_minor": 5
}
